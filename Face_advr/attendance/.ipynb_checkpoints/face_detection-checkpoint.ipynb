{
 "cells": [
  {
   "cell_type": "code",
   "execution_count": 1,
   "metadata": {},
   "outputs": [],
   "source": [
    "import pandas as pd"
   ]
  },
  {
   "cell_type": "code",
   "execution_count": 2,
   "metadata": {},
   "outputs": [],
   "source": [
    "import numpy as np"
   ]
  },
  {
   "cell_type": "code",
   "execution_count": 3,
   "metadata": {},
   "outputs": [],
   "source": [
    "import cv2"
   ]
  },
  {
   "cell_type": "code",
   "execution_count": 4,
   "metadata": {},
   "outputs": [],
   "source": [
    "from datetime import datetime"
   ]
  },
  {
   "cell_type": "code",
   "execution_count": 5,
   "metadata": {},
   "outputs": [],
   "source": [
    "import os"
   ]
  },
  {
   "cell_type": "code",
   "execution_count": 8,
   "metadata": {},
   "outputs": [],
   "source": [
    "import face_recognition"
   ]
  },
  {
   "cell_type": "code",
   "execution_count": 24,
   "metadata": {},
   "outputs": [],
   "source": [
    "# Directories for student images and group photos\n",
    "individual_images_dir = r'C:/Users/User\\Documents/face detection/indi_img'\n",
    "group_images_dir = r'C:/Users/User/Documents/face detection/grp_img'"
   ]
  },
  {
   "cell_type": "code",
   "execution_count": 25,
   "metadata": {},
   "outputs": [],
   "source": [
    "# Load and encode student images\n",
    "def load_and_encode_images(directory):\n",
    "    known_encodings = []\n",
    "    student_names = []\n",
    "    \n",
    "    for filename in os.listdir(directory):\n",
    "        if filename.endswith(('.jpg', '.jpeg', '.png')):\n",
    "            # Load image\n",
    "            image_path = os.path.join(directory, filename)\n",
    "            img = face_recognition.load_image_file(image_path)\n",
    "            \n",
    "            # Handle cases with no faces or multiple faces in the image\n",
    "            try:\n",
    "                img_encoding = face_recognition.face_encodings(img)[0]\n",
    "                known_encodings.append(img_encoding)\n",
    "                student_names.append(os.path.splitext(filename)[0])  # Use the filename without extension as the name\n",
    "            except IndexError:\n",
    "                print(f\"Warning: No face found in {filename}\")\n",
    "    \n",
    "    return known_encodings, student_names"
   ]
  },
  {
   "cell_type": "code",
   "execution_count": 26,
   "metadata": {},
   "outputs": [],
   "source": [
    "# Recognize faces in group photo\n",
    "def recognize_faces_in_group_photo(image_path, known_encodings, student_names):\n",
    "    img = cv2.imread(image_path)\n",
    "    if img is None:\n",
    "        print(f\"Error loading image {image_path}\")\n",
    "        return [], []\n",
    "    \n",
    "    img_rgb = cv2.cvtColor(img, cv2.COLOR_BGR2RGB)\n",
    "    \n",
    "    face_locations = face_recognition.face_locations(img_rgb)\n",
    "    face_encodings = face_recognition.face_encodings(img_rgb, face_locations)\n",
    "    \n",
    "    print(f\"Detected {len(face_locations)} faces in {image_path}\")\n",
    "\n",
    "    recognized_names = []\n",
    "    \n",
    "    for face_encoding in face_encodings:\n",
    "        matches = face_recognition.compare_faces(known_encodings, face_encoding)\n",
    "        face_distances = face_recognition.face_distance(known_encodings, face_encoding)\n",
    "        best_match_index = None\n",
    "        \n",
    "        if len(face_distances) > 0:\n",
    "            best_match_index = face_distances.argmin()\n",
    "        \n",
    "        if best_match_index is not None and matches[best_match_index]:\n",
    "            name = student_names[best_match_index]\n",
    "            recognized_names.append(name)\n",
    "    \n",
    "    return recognized_names, face_locations"
   ]
  },
  {
   "cell_type": "code",
   "execution_count": 31,
   "metadata": {},
   "outputs": [],
   "source": [
    "# Mark attendance in an Excel file\n",
    "def mark_attendance(names, output_file=r'C:/Users/User/Documents/Attendance.xlsx'):\n",
    "    # Load the existing attendance file or create a new one\n",
    "    try:\n",
    "        df = pd.read_excel(output_file)\n",
    "    except FileNotFoundError:\n",
    "        df = pd.DataFrame(columns=['Name', 'Time'])\n",
    "\n",
    "    # Get the current timestamp\n",
    "    now = datetime.now()\n",
    "    dt_string = now.strftime('%Y-%m-%d %H:%M:%S')\n",
    "\n",
    "    # Create a DataFrame for the new attendance entries\n",
    "    new_entries = pd.DataFrame({\n",
    "        'Name': [name for name in names if name not in df['Name'].values],\n",
    "        'Time': [dt_string] * len([name for name in names if name not in df['Name'].values])\n",
    "    })\n",
    "\n",
    "    # Concatenate the new entries with the existing DataFrame\n",
    "    df = pd.concat([df, new_entries], ignore_index=True)\n",
    "\n",
    "    # Save the updated DataFrame to Excel\n",
    "    df.to_excel(output_file, index=False)"
   ]
  },
  {
   "cell_type": "code",
   "execution_count": 32,
   "metadata": {},
   "outputs": [],
   "source": [
    "# Draw bounding boxes on recognized faces\n",
    "def draw_bounding_boxes(img, face_locations, recognized_names):\n",
    "    for (top, right, bottom, left), name in zip(face_locations, recognized_names):\n",
    "        cv2.rectangle(img, (left, top), (right, bottom), (0, 255, 0), 2)\n",
    "        cv2.putText(img, name, (left, top - 10), cv2.FONT_HERSHEY_SIMPLEX, 0.9, (0, 255, 0), 2)"
   ]
  },
  {
   "cell_type": "code",
   "execution_count": 33,
   "metadata": {},
   "outputs": [],
   "source": [
    "# Process group photos and mark attendance\n",
    "def process_group_photos():\n",
    "    known_encodings, student_names = load_and_encode_images(individual_images_dir)\n",
    "    \n",
    "    for filename in os.listdir(group_images_dir):\n",
    "        if filename.endswith(('.jpg', '.jpeg', '.png')):\n",
    "            image_path = os.path.join(group_images_dir, filename)\n",
    "            recognized_names, face_locations = recognize_faces_in_group_photo(image_path, known_encodings, student_names)\n",
    "            \n",
    "            print(f\"Recognized in {filename}: {recognized_names}\")\n",
    "            \n",
    "            mark_attendance(recognized_names)\n",
    "            \n",
    "            img = cv2.imread(image_path)\n",
    "            draw_bounding_boxes(img, face_locations, recognized_names)\n",
    "            \n",
    "            cv2.imshow('Attendance', img)\n",
    "            cv2.waitKey(0)\n",
    "            cv2.destroyAllWindows()"
   ]
  },
  {
   "cell_type": "code",
   "execution_count": 35,
   "metadata": {},
   "outputs": [
    {
     "name": "stdout",
     "output_type": "stream",
     "text": [
      "Detected 3 faces in C:/Users/User/Documents/face detection/grp_img\\group_pic1.jpg\n",
      "Recognized in group_pic1.jpg: ['Rohit_sharma', 'Jasprit_Bumrah', 'Virat_Kohli']\n"
     ]
    }
   ],
   "source": [
    "# Run the attendance marking process\n",
    "if __name__ == \"__main__\":\n",
    "    process_group_photos()"
   ]
  },
  {
   "cell_type": "code",
   "execution_count": 14,
   "metadata": {},
   "outputs": [],
   "source": [
    "def process_group_photos():\n",
    "    # Load student images and encode faces\n",
    "    known_encodings, student_names = load_and_encode_images(individual_images_dir)\n",
    "    \n",
    "    # Process each group photo in the directory\n",
    "    for filename in os.listdir(group_images_dir):\n",
    "        if filename.endswith(('.jpg', '.jpeg', '.png')):\n",
    "            image_path = os.path.join(group_images_dir, filename)\n",
    "            recognized_names, face_locations = recognize_faces_in_group_photo(image_path, known_encodings, student_names)\n",
    "            \n",
    "            # Print recognized names for this group photo\n",
    "            print(f\"Recognized in {filename}: {recognized_names}\")\n",
    "            \n",
    "            # Mark attendance\n",
    "            mark_attendance(recognized_names)\n",
    "            \n",
    "            # Draw bounding boxes around recognized faces\n",
    "            img = cv2.imread(image_path)\n",
    "            draw_bounding_boxes(img, face_locations, recognized_names)\n",
    "            \n",
    "            # Display the processed image\n",
    "            cv2.imshow('Attendance', img)\n",
    "            cv2.waitKey(0)\n",
    "            cv2.destroyAllWindows()"
   ]
  },
  {
   "cell_type": "code",
   "execution_count": null,
   "metadata": {},
   "outputs": [],
   "source": []
  }
 ],
 "metadata": {
  "kernelspec": {
   "display_name": "Python 3",
   "language": "python",
   "name": "python3"
  },
  "language_info": {
   "codemirror_mode": {
    "name": "ipython",
    "version": 3
   },
   "file_extension": ".py",
   "mimetype": "text/x-python",
   "name": "python",
   "nbconvert_exporter": "python",
   "pygments_lexer": "ipython3",
   "version": "3.12.4"
  }
 },
 "nbformat": 4,
 "nbformat_minor": 2
}
