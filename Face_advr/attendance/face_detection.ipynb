{
 "cells": [
  {
   "cell_type": "code",
   "execution_count": 1,
   "metadata": {},
   "outputs": [],
   "source": [
    "import pandas as pd"
   ]
  },
  {
   "cell_type": "code",
   "execution_count": 2,
   "metadata": {},
   "outputs": [],
   "source": [
    "import numpy as np"
   ]
  },
  {
   "cell_type": "code",
   "execution_count": 3,
   "metadata": {},
   "outputs": [],
   "source": [
    "import cv2"
   ]
  },
  {
   "cell_type": "code",
   "execution_count": 4,
   "metadata": {},
   "outputs": [],
   "source": [
    "from datetime import datetime"
   ]
  },
  {
   "cell_type": "code",
   "execution_count": 5,
   "metadata": {},
   "outputs": [],
   "source": [
    "import os"
   ]
  },
  {
   "cell_type": "code",
   "execution_count": 6,
   "metadata": {},
   "outputs": [],
   "source": [
    "import face_recognition"
   ]
  },
  {
   "cell_type": "code",
   "execution_count": 7,
   "metadata": {},
   "outputs": [],
   "source": [
    "# Directories for student images and group photos\n",
    "individual_images_dir = r'C:\\Users\\NIKHAR BEHERA\\Anaconda\\Face_advr\\indi_img'\n",
    "group_images_dir = r'C:\\Users\\NIKHAR BEHERA\\Anaconda\\Face_advr\\grp_img'"
   ]
  },
  {
   "cell_type": "code",
   "execution_count": 8,
   "metadata": {},
   "outputs": [],
   "source": [
    "# Load and encode student images\n",
    "def load_and_encode_images(directory):\n",
    "    known_encodings = []\n",
    "    student_names = []\n",
    "    \n",
    "    for filename in os.listdir(directory):\n",
    "        if filename.endswith(('.jpg', '.jpeg', '.png')):\n",
    "            # Load image\n",
    "            image_path = os.path.join(directory, filename)\n",
    "            img = face_recognition.load_image_file(image_path)\n",
    "            \n",
    "            # Handle cases with no faces or multiple faces in the image\n",
    "            try:\n",
    "                img_encoding = face_recognition.face_encodings(img)[0]\n",
    "                known_encodings.append(img_encoding)\n",
    "                student_names.append(os.path.splitext(filename)[0])  # Use the filename without extension as the name\n",
    "            except IndexError:\n",
    "                print(f\"Warning: No face found in {filename}\")\n",
    "    \n",
    "    return known_encodings, student_names\n"
   ]
  },
  {
   "cell_type": "code",
   "execution_count": 9,
   "metadata": {},
   "outputs": [],
   "source": [
    "# Recognize faces in group photo\n",
    "def recognize_faces_in_group_photo(image_path, known_encodings, student_names, tolerance=0.5):\n",
    "    # Load the group image\n",
    "    img = cv2.imread(image_path)\n",
    "    img_rgb = cv2.cvtColor(img, cv2.COLOR_BGR2RGB)\n",
    "    \n",
    "    # Detect faces in the group image\n",
    "    face_locations = face_recognition.face_locations(img_rgb)\n",
    "    face_encodings = face_recognition.face_encodings(img_rgb, face_locations)\n",
    "    \n",
    "    recognized_names = []\n",
    "    \n",
    "    for face_encoding in face_encodings:\n",
    "        matches = face_recognition.compare_faces(known_encodings, face_encoding, tolerance=tolerance)\n",
    "        face_distances = face_recognition.face_distance(known_encodings, face_encoding)\n",
    "        best_match_index = None\n",
    "        \n",
    "        # Find the best match index with a stricter check\n",
    "        if len(face_distances) > 0:\n",
    "            best_match_index = face_distances.argmin()\n",
    "            if matches[best_match_index] and face_distances[best_match_index] <= tolerance:\n",
    "                name = student_names[best_match_index]\n",
    "            else:\n",
    "                name = \"Unknown\"\n",
    "        else:\n",
    "            name = \"Unknown\"\n",
    "        \n",
    "        recognized_names.append(name)\n",
    "    \n",
    "    return recognized_names, face_locations\n"
   ]
  },
  {
   "cell_type": "code",
   "execution_count": 10,
   "metadata": {},
   "outputs": [],
   "source": [
    "# Mark attendance in an Excel file\n",
    "def mark_attendance(names, output_file=r'C:\\Users\\NIKHAR BEHERA\\Anaconda\\Face_advr\\attendance.xlsx'):\n",
    "    # Load the existing attendance file or create a new one\n",
    "    try:\n",
    "        df = pd.read_excel(output_file)\n",
    "    except FileNotFoundError:\n",
    "        df = pd.DataFrame(columns=['Name', 'Time'])\n",
    "\n",
    "    # Get the current timestamp\n",
    "    now = datetime.now()\n",
    "    dt_string = now.strftime('%Y-%m-%d %H:%M:%S')\n",
    "\n",
    "    # Add recognized names to the attendance list\n",
    "    new_entries = pd.DataFrame({'Name': names, 'Time': dt_string})\n",
    "    df = pd.concat([df, new_entries[~new_entries['Name'].isin(df['Name'])]], ignore_index=True)\n",
    "\n",
    "    # Save the updated attendance sheet\n",
    "    df.to_excel(output_file, index=False)\n"
   ]
  },
  {
   "cell_type": "code",
   "execution_count": 11,
   "metadata": {},
   "outputs": [],
   "source": [
    "# Draw bounding boxes on recognized faces\n",
    "def draw_bounding_boxes(img, face_locations, recognized_names):\n",
    "    for (top, right, bottom, left), name in zip(face_locations, recognized_names):\n",
    "        # Set the bounding box color based on whether the face is recognized\n",
    "        color = (0, 255, 0) if name != \"Unknown\" else (0, 0, 255)\n",
    "        \n",
    "        # Draw a rectangle around the face\n",
    "        cv2.rectangle(img, (left, top), (right, bottom), color, 2)\n",
    "        \n",
    "        # Add the student's name\n",
    "        font_scale = 0.4 if name != \"Unknown\" else 0.6  # Adjust font size for visibility\n",
    "        cv2.putText(img, name, (left, top - 10), cv2.FONT_HERSHEY_SIMPLEX, font_scale, color, 2)\n"
   ]
  },
  {
   "cell_type": "code",
   "execution_count": 12,
   "metadata": {},
   "outputs": [],
   "source": [
    "# Process group photos and mark attendance\n",
    "def process_group_photos():\n",
    "    # Load student images and encode faces\n",
    "    known_encodings, student_names = load_and_encode_images(individual_images_dir)\n",
    "    \n",
    "    # Process each group photo in the directory\n",
    "    for filename in os.listdir(group_images_dir):\n",
    "        if filename.endswith(('.jpg', '.jpeg', '.png')):\n",
    "            image_path = os.path.join(group_images_dir, filename)\n",
    "            recognized_names, face_locations = recognize_faces_in_group_photo(image_path, known_encodings, student_names)\n",
    "            \n",
    "            # Mark attendance\n",
    "            mark_attendance(recognized_names)\n",
    "            \n",
    "            # Draw bounding boxes around recognized faces\n",
    "            img = cv2.imread(image_path)\n",
    "            draw_bounding_boxes(img, face_locations, recognized_names)\n",
    "            \n",
    "            # Display the processed image\n",
    "            cv2.imshow('Attendance', img)\n",
    "            cv2.waitKey(0)\n",
    "            cv2.destroyAllWindows()\n"
   ]
  },
  {
   "cell_type": "code",
   "execution_count": 13,
   "metadata": {},
   "outputs": [],
   "source": [
    "# Run the attendance marking process\n",
    "if __name__ == \"__main__\":\n",
    "    process_group_photos()\n"
   ]
  },
  {
   "cell_type": "code",
   "execution_count": null,
   "metadata": {},
   "outputs": [],
   "source": []
  },
  {
   "cell_type": "code",
   "execution_count": null,
   "metadata": {},
   "outputs": [],
   "source": []
  }
 ],
 "metadata": {
  "kernelspec": {
   "display_name": "Python 3 (ipykernel)",
   "language": "python",
   "name": "python3"
  },
  "language_info": {
   "codemirror_mode": {
    "name": "ipython",
    "version": 3
   },
   "file_extension": ".py",
   "mimetype": "text/x-python",
   "name": "python",
   "nbconvert_exporter": "python",
   "pygments_lexer": "ipython3",
   "version": "3.8.19"
  }
 },
 "nbformat": 4,
 "nbformat_minor": 4
}
