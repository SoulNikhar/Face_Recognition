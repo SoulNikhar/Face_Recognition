{
 "cells": [
  {
   "cell_type": "code",
   "execution_count": 3,
   "id": "66215dde-91b6-43af-b7cf-f5787096960a",
   "metadata": {},
   "outputs": [
    {
     "name": "stdout",
     "output_type": "stream",
     "text": [
      "OpenCV version: 4.10.0\n"
     ]
    }
   ],
   "source": [
    "import cv2\n",
    "print(\"OpenCV version:\", cv2.__version__)\n"
   ]
  },
  {
   "cell_type": "markdown",
   "id": "d2e83ac0-4e30-47f2-a26f-4bbadb6c0b59",
   "metadata": {},
   "source": [
    "# code 1"
   ]
  },
  {
   "cell_type": "code",
   "execution_count": 2,
   "id": "f3137bd4-9214-4f6c-b3a4-59f4ff9e3937",
   "metadata": {},
   "outputs": [],
   "source": [
    "import cv2\n",
    "\n",
    "pixels = cv2.imread('team.jpg')\n",
    "classifier = cv2.CascadeClassifier('haarcascade_frontalface_default.xml')\n",
    "\n",
    "gray = cv2.cvtColor(pixels, cv2.COLOR_BGR2GRAY)\n",
    "\n",
    "bboxes = classifier.detectMultiScale(gray, \n",
    "                                     scaleFactor=1.1, \n",
    "                                     minNeighbors=9, \n",
    "                                     minSize=(30, 30)\n",
    "                                      )\n",
    "\n",
    "\n",
    "for (x, y, width, height) in bboxes:\n",
    "    cv2.rectangle(pixels, (x, y), (x + width, y + height), (255, 0, 0), 2)\n",
    "    \n",
    "cv2.imshow('Detected Objects', pixels)\n",
    "\n",
    "cv2.waitKey(0)\n",
    "cv2.destroyAllWindows()\n"
   ]
  },
  {
   "cell_type": "code",
   "execution_count": null,
   "id": "428c02d1-e2b1-4cb8-a55f-6144cfff7469",
   "metadata": {},
   "outputs": [],
   "source": []
  },
  {
   "cell_type": "markdown",
   "id": "90d885c1-1b62-4b38-8133-0f3cd0e3a3bd",
   "metadata": {},
   "source": [
    "# code 2"
   ]
  },
  {
   "cell_type": "code",
   "execution_count": 3,
   "id": "d8efcd17-eb26-4d51-833c-2a72c0d31c3b",
   "metadata": {},
   "outputs": [],
   "source": [
    "import cv2\n",
    "\n",
    "face_cascade = cv2.CascadeClassifier('haarcascade_frontalface_default.xml')\n",
    "img = cv2.imread('team.jpg')\n",
    "gray = cv2.cvtColor(img, cv2.COLOR_BGR2GRAY)\n",
    "\n",
    "faces = face_cascade.detectMultiScale(\n",
    "    gray,\n",
    "    scaleFactor=1.05,\n",
    "    minNeighbors=3,\n",
    "    minSize=(30, 30),\n",
    "    maxSize=(300, 300)\n",
    ")\n",
    "\n",
    "for (x, y, w, h) in faces:\n",
    "    cv2.rectangle(img, (x, y), (x + w, y + h), (255, 0, 0), 2)\n",
    "\n",
    "cv2.imshow('img', img)\n",
    "cv2.waitKey(0)\n",
    "\n",
    "cv2.destroyAllWindows()\n"
   ]
  }
 ],
 "metadata": {
  "kernelspec": {
   "display_name": "Python 3 (ipykernel)",
   "language": "python",
   "name": "python3"
  },
  "language_info": {
   "codemirror_mode": {
    "name": "ipython",
    "version": 3
   },
   "file_extension": ".py",
   "mimetype": "text/x-python",
   "name": "python",
   "nbconvert_exporter": "python",
   "pygments_lexer": "ipython3",
   "version": "3.8.19"
  }
 },
 "nbformat": 4,
 "nbformat_minor": 5
}
